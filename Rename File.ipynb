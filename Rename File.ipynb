{
 "cells": [
  {
   "cell_type": "markdown",
   "metadata": {},
   "source": [
    "# Rename File"
   ]
  },
  {
   "cell_type": "markdown",
   "metadata": {},
   "source": [
    "Rename all file to be same as the data that we get from the `episode-titles.csv` file"
   ]
  },
  {
   "cell_type": "markdown",
   "metadata": {},
   "source": [
    "## Get Location"
   ]
  },
  {
   "cell_type": "code",
   "execution_count": 1,
   "metadata": {},
   "outputs": [
    {
     "data": {
      "text/plain": [
       "['.DS_Store',\n",
       " '600 oploverz [mHADE]-elsfile.com.mkv',\n",
       " '601 oploverz [HADE]-elsfile.com.mkv',\n",
       " '602 oploverz [HADE]-elsfile.com.mkv',\n",
       " '603 oploverz [HADE]-elsfile.net.mp4',\n",
       " '604 oploverz [HADE]-elsfile.com.mkv',\n",
       " '605 oploverz [HADE]-elsfile.com.mkv',\n",
       " '606 oploverz [HADE]-elsfile.com.mkv',\n",
       " '607 oploverz [mHADE]-elsfile.com.mkv',\n",
       " '608 oploverz [HADE]-elsfile.com.mkv',\n",
       " '609 oploverz [HADE]-elsfile.com.mkv',\n",
       " '610 oploverz [HADE]-elsfile.com.mkv',\n",
       " '611 oploverz [HADE]-elsfile.com.mkv',\n",
       " '612 oploverz [HADE]-elsfile.com.mkv',\n",
       " '613 oploverz [HADE]-elsfile.com.mkv',\n",
       " '614 oploverz [HADE]-elsfile.com.mkv',\n",
       " '615 oploverz [HADE]-elsfile.com.mkv',\n",
       " '616 oploverz [HADE]-elsfile.com.mkv',\n",
       " '617 oploverz [mHADE].mp4',\n",
       " '618 oploverz [mHADE].mp4',\n",
       " '619 oploverz [mHADE].mp4',\n",
       " '620 oploverz [mini].mp4']"
      ]
     },
     "execution_count": 1,
     "metadata": {},
     "output_type": "execute_result"
    }
   ],
   "source": [
    "import os\n",
    "import pandas as pd\n",
    "import re\n",
    "\n",
    "# Input your folder location in here\n",
    "loc = '/Users/must/Movies/One-Piece | Dressrosa saga'\n",
    "files = os.listdir(loc)\n",
    "\n",
    "files"
   ]
  },
  {
   "cell_type": "markdown",
   "metadata": {},
   "source": [
    "## Load File CSV"
   ]
  },
  {
   "cell_type": "code",
   "execution_count": 2,
   "metadata": {},
   "outputs": [
    {
     "data": {
      "text/html": [
       "<div>\n",
       "<style scoped>\n",
       "    .dataframe tbody tr th:only-of-type {\n",
       "        vertical-align: middle;\n",
       "    }\n",
       "\n",
       "    .dataframe tbody tr th {\n",
       "        vertical-align: top;\n",
       "    }\n",
       "\n",
       "    .dataframe thead th {\n",
       "        text-align: right;\n",
       "    }\n",
       "</style>\n",
       "<table border=\"1\" class=\"dataframe\">\n",
       "  <thead>\n",
       "    <tr style=\"text-align: right;\">\n",
       "      <th></th>\n",
       "      <th>0</th>\n",
       "    </tr>\n",
       "  </thead>\n",
       "  <tbody>\n",
       "    <tr>\n",
       "      <th>0</th>\n",
       "      <td>001 Namaku Luffy ! Orang yang akan menjadi Raja Bajak Laut!</td>\n",
       "    </tr>\n",
       "    <tr>\n",
       "      <th>1</th>\n",
       "      <td>002 Kemunculan Pendekar Pedang Terkenal ! Pemburu Bajak Laut Roronoa Zoro!</td>\n",
       "    </tr>\n",
       "    <tr>\n",
       "      <th>2</th>\n",
       "      <td>003 Morgan Vs. Luffy! Siapa Gadis cantik itu ?</td>\n",
       "    </tr>\n",
       "    <tr>\n",
       "      <th>3</th>\n",
       "      <td>004 Masa lalu Luffy! Kemunculan Shanks si Rambut Merah!</td>\n",
       "    </tr>\n",
       "    <tr>\n",
       "      <th>4</th>\n",
       "      <td>005 Ketakutan, Kekuatan Misterius! Bajak Laut Badut Kapten Buggy!</td>\n",
       "    </tr>\n",
       "  </tbody>\n",
       "</table>\n",
       "</div>"
      ],
      "text/plain": [
       "                                                                            0\n",
       "0  001 Namaku Luffy ! Orang yang akan menjadi Raja Bajak Laut!               \n",
       "1  002 Kemunculan Pendekar Pedang Terkenal ! Pemburu Bajak Laut Roronoa Zoro!\n",
       "2  003 Morgan Vs. Luffy! Siapa Gadis cantik itu ?                            \n",
       "3  004 Masa lalu Luffy! Kemunculan Shanks si Rambut Merah!                   \n",
       "4  005 Ketakutan, Kekuatan Misterius! Bajak Laut Badut Kapten Buggy!         "
      ]
     },
     "execution_count": 2,
     "metadata": {},
     "output_type": "execute_result"
    }
   ],
   "source": [
    "# Load a csv\n",
    "pd.set_option('display.max_colwidth', -1) # displayed full\n",
    "\n",
    "dfLoad = pd.read_csv('episode_titles.csv', header=None)\n",
    "dfLoad.head()"
   ]
  },
  {
   "cell_type": "code",
   "execution_count": 3,
   "metadata": {},
   "outputs": [],
   "source": [
    "# # Test Get Titles\n",
    "# dfLoad[600:605]"
   ]
  },
  {
   "cell_type": "markdown",
   "metadata": {},
   "source": [
    "## Rename File"
   ]
  },
  {
   "cell_type": "code",
   "execution_count": 4,
   "metadata": {},
   "outputs": [],
   "source": [
    "# Updating data to match filename structure\n",
    "df = dfLoad.copy()\n",
    "df = df[0]\n",
    "\n",
    "df = df.apply(lambda x:str(x).replace(\":\",\"=\").rstrip()) # change : to =\n",
    "df = df.apply(lambda x:x[:3] + ' - ' + x[4:])\n",
    "\n",
    "#df[600:605]"
   ]
  },
  {
   "cell_type": "code",
   "execution_count": 5,
   "metadata": {},
   "outputs": [],
   "source": [
    "# # Check data\n",
    "# for count, item in enumerate(df, start=0):\n",
    "#     print(count, item)"
   ]
  },
  {
   "cell_type": "code",
   "execution_count": 6,
   "metadata": {},
   "outputs": [
    {
     "name": "stdout",
     "output_type": "stream",
     "text": [
      "600 - Menyelamatkan Anak-anak! Tangan Iblis Master Mendekat!.mkv\n",
      "601 - Mengguncang Dunia Baru! Eksperimen Mengejutkan Caesar.mkv\n",
      "602 - Senjata Pemusnah Masal Mematikan dalam Sejarah! Shinokuni.mkv\n",
      "603 - Melancarkan Serangan Balik! Penyelamatan Luff dan Law!.mp4\n",
      "604 - Bergegas Menuju Bangunan R! Aliansi Bajak Laut Telah Melakukan Penyerangan!.mkv\n",
      "605 - Air mata Tashigi penerobosan penuh keputusasaan G-5″.mkv\n",
      "606 - Wakil Admiral Penghianat!, Iblis Bambu Vergo!.mkv\n",
      "607 - Pertarungan Sengit Dimulai! Luffy Melawan Caesar!.mkv\n",
      "608 - Dalang Kegelapan! Doflamingo Telah Melakukan Pergerakan!.mkv\n",
      "609 - Luffy Mati Membeku?! Wanita Salju Menakutkan, Monet!.mkv\n",
      "610 - Pertempuran Antara Wakil Admiral!.mkv\n",
      "611 - Naga Kecil! Kemunculan Monososuke.mkv\n",
      "612 - Pertarungan Sengit di Badai Salju! Kelompok Topi Jerami Melawan Wanita Salju!.mkv\n",
      "613 - Teknik Rahasia! Teknik Satu Pedang Terhebat Zoro.mkv\n",
      "614 - Melindungi Teman-teman! Mocha Mengorbankan Dirinya Sendiri!.mkv\n",
      "615 - Kesedihan Chahige! Pukulan Penuh Amarah Luffy!.mkv\n",
      "616 - Pertarungan Sengit Terjadi! Smoker Melawan Vergo!.mkv\n",
      "617 - Caesar Dikalahkan! Kekuatan Hebat Grizzly Magnum!.mp4\n",
      "618 - Penyergap! Pembunuh dari Dressrosa!.mp4\n",
      "619 - Mengamuk! Franky Shogun yang Tak Terkalahkan!.mp4\n",
      "620 - Situasi Genting! Punk Hazard Meledak!.mp4\n",
      "\n",
      "\n",
      "============= Rename Finished =============\n",
      "\n",
      "\n",
      "CPU times: user 13.3 ms, sys: 6.97 ms, total: 20.3 ms\n",
      "Wall time: 21.2 ms\n"
     ]
    }
   ],
   "source": [
    "%%time\n",
    "# Rename files\n",
    "\n",
    "for file in files:\n",
    "    filename, ext = os.path.splitext(file)\n",
    "    \n",
    "    episode = re.findall('[0-9]\\d\\d|$', filename)[0]; # regex get first 3 digit number from filename\n",
    "    \n",
    "    if episode != '':\n",
    "        newname = df[int(episode)-1] # get new name from dataframe\n",
    "        #print(newname)\n",
    "        \n",
    "        newfilename = newname+ext\n",
    "        print(newfilename)\n",
    "\n",
    "        os.rename(loc+'/'+file, loc+'/'+newfilename) # rename file\n",
    "        \n",
    "print('\\n')\n",
    "print('============= Rename Finished =============')\n",
    "print('\\n')"
   ]
  },
  {
   "cell_type": "code",
   "execution_count": null,
   "metadata": {},
   "outputs": [],
   "source": []
  }
 ],
 "metadata": {
  "kernelspec": {
   "display_name": "Python 3",
   "language": "python",
   "name": "python3"
  },
  "language_info": {
   "codemirror_mode": {
    "name": "ipython",
    "version": 3
   },
   "file_extension": ".py",
   "mimetype": "text/x-python",
   "name": "python",
   "nbconvert_exporter": "python",
   "pygments_lexer": "ipython3",
   "version": "3.6.6"
  }
 },
 "nbformat": 4,
 "nbformat_minor": 2
}
